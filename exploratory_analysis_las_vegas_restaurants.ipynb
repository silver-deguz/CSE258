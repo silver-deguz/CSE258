{
 "cells": [
  {
   "cell_type": "code",
   "execution_count": 13,
   "metadata": {},
   "outputs": [],
   "source": [
    "import pickle\n",
    "import pandas as pd\n",
    "import numpy as np\n",
    "import matplotlib.pyplot as plt\n",
    "import seaborn as sns\n",
    "import nltk\n",
    "from nltk.corpus import stopwords\n",
    "from sklearn.utils import shuffle\n",
    "import time\n",
    "import json\n",
    "\n",
    "import itertools\n",
    "import math\n",
    "import scipy.optimize\n",
    "from scipy import sparse\n",
    "from collections import defaultdict, Counter\n",
    "import string\n",
    "from sklearn import linear_model\n",
    "from sklearn.metrics.pairwise import cosine_similarity as cos_sim\n",
    "from sklearn.metrics import mean_squared_error as MSE\n",
    "from sklearn.model_selection import train_test_split\n",
    "from sklearn.utils import shuffle"
   ]
  },
  {
   "cell_type": "code",
   "execution_count": 14,
   "metadata": {},
   "outputs": [],
   "source": [
    "file = open('business_user_IDs.pkl','rb')\n",
    "lasvegasID = pickle.load(file)\n",
    "lasvegas = pickle.load(file)\n",
    "phoenixID = pickle.load(file)\n",
    "phoenix = pickle.load(file)\n",
    "userID = pickle.load(file)\n",
    "user = pickle.load(file)\n",
    "file.close()\n"
   ]
  },
  {
   "cell_type": "code",
   "execution_count": 15,
   "metadata": {},
   "outputs": [],
   "source": [
    "path = \"./yelp_academic_dataset_review.json\"\n",
    "\n",
    "# load reviews from json data set into a list\n",
    "def parseData(N=100000):\n",
    "    # extract fields from review json data set \n",
    "    # setup an array for storing each json entry\n",
    "    dataset = []\n",
    "\n",
    "    # open the business source file\n",
    "    f = open(path, 'r', encoding = 'utf8')\n",
    "    for l in f:\n",
    "        dataset.append(json.loads(l))\n",
    "    f.close()\n",
    "    return dataset\n",
    "\n",
    "LV_review_data = parseData()\n",
    "\n",
    "\n"
   ]
  },
  {
   "cell_type": "code",
   "execution_count": 16,
   "metadata": {},
   "outputs": [
    {
     "data": {
      "text/plain": [
       "5996996"
      ]
     },
     "execution_count": 16,
     "metadata": {},
     "output_type": "execute_result"
    }
   ],
   "source": [
    "len(LV_review_data)\n",
    "\n"
   ]
  },
  {
   "cell_type": "code",
   "execution_count": 6,
   "metadata": {},
   "outputs": [
    {
     "data": {
      "text/plain": [
       "{'review_id': 'x7mDIiDB3jEiPGPHOmDzyw',\n",
       " 'user_id': 'msQe1u7Z_XuqjGoqhB0J5g',\n",
       " 'business_id': 'iCQpiavjjPzJ5_3gPD5Ebg',\n",
       " 'stars': 2,\n",
       " 'date': '2011-02-25',\n",
       " 'text': \"The pizza was okay. Not the best I've had. I prefer Biaggio's on Flamingo / Fort Apache. The chef there can make a MUCH better NY style pizza. The pizzeria @ Cosmo was over priced for the quality and lack of personality in the food. Biaggio's is a much better pick if youre going for italian - family owned, home made recipes, people that actually CARE if you like their food. You dont get that at a pizzeria in a casino. I dont care what you say...\",\n",
       " 'useful': 0,\n",
       " 'funny': 0,\n",
       " 'cool': 0}"
      ]
     },
     "execution_count": 6,
     "metadata": {},
     "output_type": "execute_result"
    }
   ],
   "source": [
    "LV_review_data[0]\n",
    "\n"
   ]
  },
  {
   "cell_type": "code",
   "execution_count": 7,
   "metadata": {},
   "outputs": [],
   "source": [
    "# load raw data into pandas data frame and remove unwanted columns\n",
    "# header_keep = ['business_id', 'user_id', 'stars', 'text', 'useful', 'funny', 'cool']\n",
    "LV_review_df = pd.DataFrame(LV_review_data)\n"
   ]
  },
  {
   "cell_type": "code",
   "execution_count": 27,
   "metadata": {},
   "outputs": [
    {
     "data": {
      "text/html": [
       "<div>\n",
       "<style scoped>\n",
       "    .dataframe tbody tr th:only-of-type {\n",
       "        vertical-align: middle;\n",
       "    }\n",
       "\n",
       "    .dataframe tbody tr th {\n",
       "        vertical-align: top;\n",
       "    }\n",
       "\n",
       "    .dataframe thead th {\n",
       "        text-align: right;\n",
       "    }\n",
       "</style>\n",
       "<table border=\"1\" class=\"dataframe\">\n",
       "  <thead>\n",
       "    <tr style=\"text-align: right;\">\n",
       "      <th></th>\n",
       "      <th>business_id</th>\n",
       "      <th>cool</th>\n",
       "      <th>date</th>\n",
       "      <th>funny</th>\n",
       "      <th>review_id</th>\n",
       "      <th>stars</th>\n",
       "      <th>text</th>\n",
       "      <th>useful</th>\n",
       "      <th>user_id</th>\n",
       "      <th>text_length</th>\n",
       "    </tr>\n",
       "  </thead>\n",
       "  <tbody>\n",
       "    <tr>\n",
       "      <th>0</th>\n",
       "      <td>iCQpiavjjPzJ5_3gPD5Ebg</td>\n",
       "      <td>0</td>\n",
       "      <td>2011-02-25</td>\n",
       "      <td>0</td>\n",
       "      <td>x7mDIiDB3jEiPGPHOmDzyw</td>\n",
       "      <td>2</td>\n",
       "      <td>The pizza was okay. Not the best I've had. I p...</td>\n",
       "      <td>0</td>\n",
       "      <td>msQe1u7Z_XuqjGoqhB0J5g</td>\n",
       "      <td>449</td>\n",
       "    </tr>\n",
       "    <tr>\n",
       "      <th>1</th>\n",
       "      <td>pomGBqfbxcqPv14c3XH-ZQ</td>\n",
       "      <td>0</td>\n",
       "      <td>2012-11-13</td>\n",
       "      <td>0</td>\n",
       "      <td>dDl8zu1vWPdKGihJrwQbpw</td>\n",
       "      <td>5</td>\n",
       "      <td>I love this place! My fiance And I go here atl...</td>\n",
       "      <td>0</td>\n",
       "      <td>msQe1u7Z_XuqjGoqhB0J5g</td>\n",
       "      <td>317</td>\n",
       "    </tr>\n",
       "    <tr>\n",
       "      <th>2</th>\n",
       "      <td>jtQARsP6P-LbkyjbO1qNGg</td>\n",
       "      <td>1</td>\n",
       "      <td>2014-10-23</td>\n",
       "      <td>1</td>\n",
       "      <td>LZp4UX5zK3e-c5ZGSeo3kA</td>\n",
       "      <td>1</td>\n",
       "      <td>Terrible. Dry corn bread. Rib tips were all fa...</td>\n",
       "      <td>3</td>\n",
       "      <td>msQe1u7Z_XuqjGoqhB0J5g</td>\n",
       "      <td>156</td>\n",
       "    </tr>\n",
       "    <tr>\n",
       "      <th>3</th>\n",
       "      <td>elqbBhBfElMNSrjFqW3now</td>\n",
       "      <td>0</td>\n",
       "      <td>2011-02-25</td>\n",
       "      <td>0</td>\n",
       "      <td>Er4NBWCmCD4nM8_p1GRdow</td>\n",
       "      <td>2</td>\n",
       "      <td>Back in 2005-2007 this place was my FAVORITE t...</td>\n",
       "      <td>2</td>\n",
       "      <td>msQe1u7Z_XuqjGoqhB0J5g</td>\n",
       "      <td>901</td>\n",
       "    </tr>\n",
       "    <tr>\n",
       "      <th>4</th>\n",
       "      <td>Ums3gaP2qM3W1XcA5r6SsQ</td>\n",
       "      <td>0</td>\n",
       "      <td>2014-09-05</td>\n",
       "      <td>0</td>\n",
       "      <td>jsDu6QEJHbwP2Blom1PLCA</td>\n",
       "      <td>5</td>\n",
       "      <td>Delicious healthy food. The steak is amazing. ...</td>\n",
       "      <td>0</td>\n",
       "      <td>msQe1u7Z_XuqjGoqhB0J5g</td>\n",
       "      <td>165</td>\n",
       "    </tr>\n",
       "  </tbody>\n",
       "</table>\n",
       "</div>"
      ],
      "text/plain": [
       "              business_id  cool        date  funny               review_id  \\\n",
       "0  iCQpiavjjPzJ5_3gPD5Ebg     0  2011-02-25      0  x7mDIiDB3jEiPGPHOmDzyw   \n",
       "1  pomGBqfbxcqPv14c3XH-ZQ     0  2012-11-13      0  dDl8zu1vWPdKGihJrwQbpw   \n",
       "2  jtQARsP6P-LbkyjbO1qNGg     1  2014-10-23      1  LZp4UX5zK3e-c5ZGSeo3kA   \n",
       "3  elqbBhBfElMNSrjFqW3now     0  2011-02-25      0  Er4NBWCmCD4nM8_p1GRdow   \n",
       "4  Ums3gaP2qM3W1XcA5r6SsQ     0  2014-09-05      0  jsDu6QEJHbwP2Blom1PLCA   \n",
       "\n",
       "   stars                                               text  useful  \\\n",
       "0      2  The pizza was okay. Not the best I've had. I p...       0   \n",
       "1      5  I love this place! My fiance And I go here atl...       0   \n",
       "2      1  Terrible. Dry corn bread. Rib tips were all fa...       3   \n",
       "3      2  Back in 2005-2007 this place was my FAVORITE t...       2   \n",
       "4      5  Delicious healthy food. The steak is amazing. ...       0   \n",
       "\n",
       "                  user_id  text_length  \n",
       "0  msQe1u7Z_XuqjGoqhB0J5g          449  \n",
       "1  msQe1u7Z_XuqjGoqhB0J5g          317  \n",
       "2  msQe1u7Z_XuqjGoqhB0J5g          156  \n",
       "3  msQe1u7Z_XuqjGoqhB0J5g          901  \n",
       "4  msQe1u7Z_XuqjGoqhB0J5g          165  "
      ]
     },
     "execution_count": 27,
     "metadata": {},
     "output_type": "execute_result"
    }
   ],
   "source": [
    "# filter out reviews to keep only businesses in las vegas\n",
    "LV_review_df = LV_review_df[LV_review_df['business_id'].isin(lasvegas)]\n",
    "LV_review_df['text_length'] = LV_review_df['text'].apply(len)\n",
    "LV_review_df.head(5)\n",
    "\n",
    "\n"
   ]
  },
  {
   "cell_type": "code",
   "execution_count": 31,
   "metadata": {},
   "outputs": [
    {
     "data": {
      "text/plain": [
       "668.9203371771297"
      ]
     },
     "execution_count": 31,
     "metadata": {},
     "output_type": "execute_result"
    }
   ],
   "source": [
    "# average review length of 1 star reviews and the other star reviews are below\n",
    "avglength = LV_review_df[LV_review_df['stars']==1]\n",
    "avglength['text_length'].mean()"
   ]
  },
  {
   "cell_type": "code",
   "execution_count": 32,
   "metadata": {},
   "outputs": [
    {
     "data": {
      "text/plain": [
       "743.3025221924757"
      ]
     },
     "execution_count": 32,
     "metadata": {},
     "output_type": "execute_result"
    }
   ],
   "source": [
    "avglength = LV_review_df[LV_review_df['stars']==2]\n",
    "avglength['text_length'].mean()"
   ]
  },
  {
   "cell_type": "code",
   "execution_count": 33,
   "metadata": {},
   "outputs": [
    {
     "data": {
      "text/plain": [
       "716.5451331902538"
      ]
     },
     "execution_count": 33,
     "metadata": {},
     "output_type": "execute_result"
    }
   ],
   "source": [
    "avglength = LV_review_df[LV_review_df['stars']==3]\n",
    "avglength['text_length'].mean()"
   ]
  },
  {
   "cell_type": "code",
   "execution_count": 34,
   "metadata": {},
   "outputs": [
    {
     "data": {
      "text/plain": [
       "643.4862758767598"
      ]
     },
     "execution_count": 34,
     "metadata": {},
     "output_type": "execute_result"
    }
   ],
   "source": [
    "avglength = LV_review_df[LV_review_df['stars']==4]\n",
    "avglength['text_length'].mean()"
   ]
  },
  {
   "cell_type": "code",
   "execution_count": 39,
   "metadata": {},
   "outputs": [
    {
     "data": {
      "text/plain": [
       "486.03501735654913"
      ]
     },
     "execution_count": 39,
     "metadata": {},
     "output_type": "execute_result"
    }
   ],
   "source": [
    "avglength = LV_review_df[LV_review_df['stars']==5]\n",
    "avglength['text_length'].mean()"
   ]
  },
  {
   "cell_type": "code",
   "execution_count": 40,
   "metadata": {},
   "outputs": [],
   "source": [
    "numUserReviews = LV_review_df['user_id'].value_counts()\n",
    "# numUserReviews.sort_values(ascending=True)\n"
   ]
  },
  {
   "cell_type": "code",
   "execution_count": 42,
   "metadata": {},
   "outputs": [],
   "source": [
    "# LV_review_df.iloc[1000:2000] # display review entries 1000-2000 in pandas data frame\n"
   ]
  },
  {
   "cell_type": "code",
   "execution_count": 43,
   "metadata": {},
   "outputs": [
    {
     "data": {
      "text/plain": [
       "1035333"
      ]
     },
     "execution_count": 43,
     "metadata": {},
     "output_type": "execute_result"
    }
   ],
   "source": [
    "len(LV_review_df) # total number of reviews for Las Vegas\n"
   ]
  },
  {
   "cell_type": "code",
   "execution_count": 44,
   "metadata": {},
   "outputs": [],
   "source": [
    "# remove reviews where user only wrote less than 10 reviews\n",
    "LV_review_df = LV_review_df[LV_review_df.isin(numUserReviews.index[numUserReviews > 10]).values]\n"
   ]
  },
  {
   "cell_type": "code",
   "execution_count": 45,
   "metadata": {},
   "outputs": [
    {
     "data": {
      "text/plain": [
       "330649"
      ]
     },
     "execution_count": 45,
     "metadata": {},
     "output_type": "execute_result"
    }
   ],
   "source": [
    "len(LV_review_df) # number of reviews now that users withs less than 10 reviews are removed\n"
   ]
  },
  {
   "cell_type": "code",
   "execution_count": 46,
   "metadata": {},
   "outputs": [],
   "source": [
    "numUser = LV_review_df['user_id'].value_counts()\n",
    "numBusiness = LV_review_df['business_id'].value_counts()\n"
   ]
  },
  {
   "cell_type": "code",
   "execution_count": 48,
   "metadata": {},
   "outputs": [
    {
     "data": {
      "text/plain": [
       "13123"
      ]
     },
     "execution_count": 48,
     "metadata": {},
     "output_type": "execute_result"
    }
   ],
   "source": [
    "len(numUser) # number of businesses in dataset\n"
   ]
  },
  {
   "cell_type": "code",
   "execution_count": 70,
   "metadata": {},
   "outputs": [
    {
     "data": {
      "image/png": "[encoded data removed]",
      "text/plain": [
       "<matplotlib.figure.Figure at 0x1bf571dda0>"
      ]
     },
     "metadata": {},
     "output_type": "display_data"
    }
   ],
   "source": [
    "## save this dataframe\n",
    "# LV_review_df.to_pickle(\"LV_reviews.pkl\")\n",
    "\n",
    "# plot star ratings distribution\n",
    "LV_review_df['stars'].value_counts().plot(kind='barh')\n",
    "plt.title('Ratings Distribution in Las Vegas Reviews')\n",
    "plt.xlabel('Number of Reviews')\n",
    "plt.ylabel('Star Ratings')\n",
    "plt.savefig('ratings_distrib.png')\n"
   ]
  },
  {
   "cell_type": "code",
   "execution_count": 50,
   "metadata": {},
   "outputs": [],
   "source": [
    "label = LV_review_df['stars'].tolist()\n",
    "review = LV_review_df['text'].tolist()\n",
    "userID = LV_review_df['user_id'].tolist()\n",
    "businessID = LV_review_df['business_id'].tolist()\n",
    "review, label, userID, businessID = shuffle(review, label, userID, businessID, random_state=5)\n"
   ]
  },
  {
   "cell_type": "code",
   "execution_count": 52,
   "metadata": {},
   "outputs": [],
   "source": [
    "## shuffle the dataset and keep use only 100K reviews for project\n",
    "K = 100000\n",
    "review = review[:K]\n",
    "label = label[:K]\n",
    "userID = userID[:K]\n",
    "businessID = businessID[:K]\n",
    "\n",
    "# # save to pickle file\n",
    "# file = open('yelp_200K_LV.pkl','wb')\n",
    "# pickle.dump(review, file)\n",
    "# pickle.dump(label, file)\n",
    "# pickle.dump(userID, file)\n",
    "# pickle.dump(businessID, file)\n",
    "# file.close()\n",
    "\n"
   ]
  },
  {
   "cell_type": "code",
   "execution_count": 55,
   "metadata": {},
   "outputs": [],
   "source": [
    "avg = pd.DataFrame({'review': review,'rating': label,'userID': userID,'businessID': businessID})"
   ]
  },
  {
   "cell_type": "code",
   "execution_count": 57,
   "metadata": {},
   "outputs": [
    {
     "data": {
      "text/html": [
       "<div>\n",
       "<style scoped>\n",
       "    .dataframe tbody tr th:only-of-type {\n",
       "        vertical-align: middle;\n",
       "    }\n",
       "\n",
       "    .dataframe tbody tr th {\n",
       "        vertical-align: top;\n",
       "    }\n",
       "\n",
       "    .dataframe thead th {\n",
       "        text-align: right;\n",
       "    }\n",
       "</style>\n",
       "<table border=\"1\" class=\"dataframe\">\n",
       "  <thead>\n",
       "    <tr style=\"text-align: right;\">\n",
       "      <th></th>\n",
       "      <th>businessID</th>\n",
       "      <th>rating</th>\n",
       "      <th>review</th>\n",
       "      <th>userID</th>\n",
       "      <th>text_length</th>\n",
       "    </tr>\n",
       "  </thead>\n",
       "  <tbody>\n",
       "    <tr>\n",
       "      <th>0</th>\n",
       "      <td>NvKNe9DnQavC9GstglcBJQ</td>\n",
       "      <td>4</td>\n",
       "      <td>I dont give it 5 stars because it could be a l...</td>\n",
       "      <td>1dwa6Wkp0chKBcrRuO05lA</td>\n",
       "      <td>269</td>\n",
       "    </tr>\n",
       "    <tr>\n",
       "      <th>1</th>\n",
       "      <td>MXC9pwIxovWUc9yu1F8OxA</td>\n",
       "      <td>5</td>\n",
       "      <td>We came here on a Saturday night, around 9ish,...</td>\n",
       "      <td>rHgT6lBbZ2PaHt0UWfTMtw</td>\n",
       "      <td>1149</td>\n",
       "    </tr>\n",
       "    <tr>\n",
       "      <th>2</th>\n",
       "      <td>BjS35X3-_-9TP-RyfzoC_Q</td>\n",
       "      <td>1</td>\n",
       "      <td>Food is pretty ok. The service is good. I shou...</td>\n",
       "      <td>j9vih1KD2r-NLlaHfZPkRA</td>\n",
       "      <td>366</td>\n",
       "    </tr>\n",
       "    <tr>\n",
       "      <th>3</th>\n",
       "      <td>mDR12Hafvr84ctpsV6YLag</td>\n",
       "      <td>4</td>\n",
       "      <td>Friendly service, good prices and big portions...</td>\n",
       "      <td>ukkRTJLkQTx95fCalVn6BA</td>\n",
       "      <td>1827</td>\n",
       "    </tr>\n",
       "    <tr>\n",
       "      <th>4</th>\n",
       "      <td>3Jq5LfJ5fmJ5KmuA6VHmzw</td>\n",
       "      <td>5</td>\n",
       "      <td>So excited to be a part of this amazing team! ...</td>\n",
       "      <td>k1VrwDJi2OOrmRfkiIzNug</td>\n",
       "      <td>130</td>\n",
       "    </tr>\n",
       "  </tbody>\n",
       "</table>\n",
       "</div>"
      ],
      "text/plain": [
       "               businessID  rating  \\\n",
       "0  NvKNe9DnQavC9GstglcBJQ       4   \n",
       "1  MXC9pwIxovWUc9yu1F8OxA       5   \n",
       "2  BjS35X3-_-9TP-RyfzoC_Q       1   \n",
       "3  mDR12Hafvr84ctpsV6YLag       4   \n",
       "4  3Jq5LfJ5fmJ5KmuA6VHmzw       5   \n",
       "\n",
       "                                              review                  userID  \\\n",
       "0  I dont give it 5 stars because it could be a l...  1dwa6Wkp0chKBcrRuO05lA   \n",
       "1  We came here on a Saturday night, around 9ish,...  rHgT6lBbZ2PaHt0UWfTMtw   \n",
       "2  Food is pretty ok. The service is good. I shou...  j9vih1KD2r-NLlaHfZPkRA   \n",
       "3  Friendly service, good prices and big portions...  ukkRTJLkQTx95fCalVn6BA   \n",
       "4  So excited to be a part of this amazing team! ...  k1VrwDJi2OOrmRfkiIzNug   \n",
       "\n",
       "   text_length  \n",
       "0          269  \n",
       "1         1149  \n",
       "2          366  \n",
       "3         1827  \n",
       "4          130  "
      ]
     },
     "execution_count": 57,
     "metadata": {},
     "output_type": "execute_result"
    }
   ],
   "source": [
    "avg['text_length'] = avg['review'].apply(len)\n",
    "avg.head(5)"
   ]
  },
  {
   "cell_type": "code",
   "execution_count": 64,
   "metadata": {},
   "outputs": [
    {
     "data": {
      "text/plain": [
       "781.841757706704"
      ]
     },
     "execution_count": 64,
     "metadata": {},
     "output_type": "execute_result"
    }
   ],
   "source": [
    "avglength = avg[avg['rating']==4]\n",
    "avglength['text_length'].mean()\n"
   ]
  },
  {
   "cell_type": "code",
   "execution_count": 75,
   "metadata": {},
   "outputs": [
    {
     "data": {
      "image/png": "[encoded data removed]",
      "text/plain": [
       "<matplotlib.figure.Figure at 0x1b8637e5c0>"
      ]
     },
     "metadata": {},
     "output_type": "display_data"
    }
   ],
   "source": [
    "sns.set(style=\"whitegrid\")\n",
    "\n",
    "# how does review length factor into star rating?\n",
    "g = sns.FacetGrid(data=LV_review_df, col='stars', margin_titles=True, palette=\"Set1\")\n",
    "g.map(plt.hist, 'text_length', bins=25, color='g')\n",
    "g.savefig(\"stars_vs_length.png\")"
   ]
  }
 ],
 "metadata": {
  "kernelspec": {
   "display_name": "Python 3",
   "language": "python",
   "name": "python3"
  },
  "language_info": {
   "codemirror_mode": {
    "name": "ipython",
    "version": 3
   },
   "file_extension": ".py",
   "mimetype": "text/x-python",
   "name": "python",
   "nbconvert_exporter": "python",
   "pygments_lexer": "ipython3",
   "version": "3.6.6"
  }
 },
 "nbformat": 4,
 "nbformat_minor": 2
}
